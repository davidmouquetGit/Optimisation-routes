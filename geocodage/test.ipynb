{
 "cells": [
  {
   "cell_type": "code",
   "execution_count": 2,
   "metadata": {},
   "outputs": [],
   "source": [
    "from geopy.geocoders import Nominatim\n",
    "\n",
    "# Nominatim = service gratuit basé sur OpenStreetMap\n",
    "geolocator = Nominatim(user_agent=\"geoapi\")"
   ]
  },
  {
   "cell_type": "code",
   "execution_count": 16,
   "metadata": {},
   "outputs": [
    {
     "ename": "ValueError",
     "evalue": "Aucune donnée valide trouvée dans le fichier NDJSON.",
     "output_type": "error",
     "traceback": [
      "\u001b[1;31m---------------------------------------------------------------------------\u001b[0m",
      "\u001b[1;31mValueError\u001b[0m                                Traceback (most recent call last)",
      "Cell \u001b[1;32mIn[16], line 23\u001b[0m\n\u001b[0;32m     20\u001b[0m         records\u001b[38;5;241m.\u001b[39mappend(properties)\n\u001b[0;32m     22\u001b[0m \u001b[38;5;28;01mif\u001b[39;00m \u001b[38;5;129;01mnot\u001b[39;00m records:\n\u001b[1;32m---> 23\u001b[0m     \u001b[38;5;28;01mraise\u001b[39;00m \u001b[38;5;167;01mValueError\u001b[39;00m(\u001b[38;5;124m\"\u001b[39m\u001b[38;5;124mAucune donnée valide trouvée dans le fichier NDJSON.\u001b[39m\u001b[38;5;124m\"\u001b[39m)\n\u001b[0;32m     25\u001b[0m \u001b[38;5;66;03m# Créer GeoDataFrame\u001b[39;00m\n\u001b[0;32m     26\u001b[0m gdf \u001b[38;5;241m=\u001b[39m gpd\u001b[38;5;241m.\u001b[39mGeoDataFrame(records, geometry\u001b[38;5;241m=\u001b[39m\u001b[38;5;124m\"\u001b[39m\u001b[38;5;124mgeometry\u001b[39m\u001b[38;5;124m\"\u001b[39m, crs\u001b[38;5;241m=\u001b[39m\u001b[38;5;124m\"\u001b[39m\u001b[38;5;124mEPSG:4326\u001b[39m\u001b[38;5;124m\"\u001b[39m)\n",
      "\u001b[1;31mValueError\u001b[0m: Aucune donnée valide trouvée dans le fichier NDJSON."
     ]
    }
   ],
   "source": [
    "import ndjson\n",
    "import geopandas as gpd\n",
    "from shapely.geometry import Point\n",
    "\n",
    "\n",
    "# Chemin vers ton fichier\n",
    "fichier_ndjson = \"../data/adresses/adresses-addok-27.ndjson\"\n",
    "\n",
    "# Lire le NDJSON compressé\n",
    "with open(fichier_ndjson, 'rt', encoding='utf-8') as f:\n",
    "    data = ndjson.load(f)\n",
    "records = []\n",
    "\n",
    "\n",
    "for item in data:\n",
    "    if \"geometry\" in item and item[\"geometry\"] is not None:\n",
    "        coords = item[\"geometry\"][\"coordinates\"]  # [lon, lat]\n",
    "        properties = item.get(\"properties\", {})\n",
    "        properties[\"geometry\"] = Point(coords)  # créer géométrie explicitement\n",
    "        records.append(properties)\n",
    "\n",
    "if not records:\n",
    "    raise ValueError(\"Aucune donnée valide trouvée dans le fichier NDJSON.\")\n",
    "\n",
    "# Créer GeoDataFrame\n",
    "gdf = gpd.GeoDataFrame(records, geometry=\"geometry\", crs=\"EPSG:4326\")\n",
    "\n",
    "# Reprojection vers Lambert-93\n",
    "gdf = gdf.to_crs(epsg=2154)\n"
   ]
  },
  {
   "cell_type": "code",
   "execution_count": null,
   "metadata": {},
   "outputs": [],
   "source": [
    "from functools import partial\n",
    "from geopy.geocoders import Nominatim\n",
    "\n",
    "geolocator = Nominatim(user_agent=\"sirene\")\n"
   ]
  },
  {
   "cell_type": "code",
   "execution_count": 5,
   "metadata": {},
   "outputs": [],
   "source": [
    "geocode = partial(geolocator.geocode, language=\"fr\")"
   ]
  },
  {
   "cell_type": "code",
   "execution_count": 8,
   "metadata": {},
   "outputs": [],
   "source": [
    "location = geolocator.geocode(\"48 RUE DES COTEAUX DE PACY, PACY SUR EURE\")"
   ]
  },
  {
   "cell_type": "code",
   "execution_count": 9,
   "metadata": {},
   "outputs": [
    {
     "data": {
      "text/plain": [
       "Location(48, Rue des Coteaux de Pacy, Pacy-sur-Eure, Les Andelys, Eure, Normandie, France métropolitaine, 27120, France, (49.0167283, 1.390151, 0.0))"
      ]
     },
     "execution_count": 9,
     "metadata": {},
     "output_type": "execute_result"
    }
   ],
   "source": [
    "location"
   ]
  },
  {
   "cell_type": "code",
   "execution_count": 12,
   "metadata": {},
   "outputs": [
    {
     "data": {
      "text/plain": [
       "'48, Rue des Coteaux de Pacy, Pacy-sur-Eure, Les Andelys, Eure, Normandie, France métropolitaine, 27120, France'"
      ]
     },
     "execution_count": 12,
     "metadata": {},
     "output_type": "execute_result"
    }
   ],
   "source": [
    "location.address"
   ]
  },
  {
   "cell_type": "code",
   "execution_count": 10,
   "metadata": {},
   "outputs": [
    {
     "data": {
      "text/plain": [
       "49.0167283"
      ]
     },
     "execution_count": 10,
     "metadata": {},
     "output_type": "execute_result"
    }
   ],
   "source": [
    "location.latitude"
   ]
  },
  {
   "cell_type": "code",
   "execution_count": 11,
   "metadata": {},
   "outputs": [
    {
     "data": {
      "text/plain": [
       "1.390151"
      ]
     },
     "execution_count": 11,
     "metadata": {},
     "output_type": "execute_result"
    }
   ],
   "source": [
    "location.longitude"
   ]
  },
  {
   "cell_type": "code",
   "execution_count": 13,
   "metadata": {},
   "outputs": [
    {
     "name": "stdout",
     "output_type": "stream",
     "text": [
      "Collecting requests\n",
      "  Downloading requests-2.32.3-py3-none-any.whl.metadata (4.6 kB)\n",
      "Collecting charset-normalizer<4,>=2 (from requests)\n",
      "  Downloading charset_normalizer-3.4.1-cp310-cp310-win_amd64.whl.metadata (36 kB)\n",
      "Collecting idna<4,>=2.5 (from requests)\n",
      "  Downloading idna-3.10-py3-none-any.whl.metadata (10 kB)\n",
      "Collecting urllib3<3,>=1.21.1 (from requests)\n",
      "  Downloading urllib3-2.3.0-py3-none-any.whl.metadata (6.5 kB)\n",
      "Collecting certifi>=2017.4.17 (from requests)\n",
      "  Downloading certifi-2025.1.31-py3-none-any.whl.metadata (2.5 kB)\n",
      "Downloading requests-2.32.3-py3-none-any.whl (64 kB)\n",
      "Downloading certifi-2025.1.31-py3-none-any.whl (166 kB)\n",
      "Downloading charset_normalizer-3.4.1-cp310-cp310-win_amd64.whl (102 kB)\n",
      "Downloading idna-3.10-py3-none-any.whl (70 kB)\n",
      "Downloading urllib3-2.3.0-py3-none-any.whl (128 kB)\n",
      "Installing collected packages: urllib3, idna, charset-normalizer, certifi, requests\n",
      "Successfully installed certifi-2025.1.31 charset-normalizer-3.4.1 idna-3.10 requests-2.32.3 urllib3-2.3.0\n"
     ]
    }
   ],
   "source": [
    "!pip install requests"
   ]
  },
  {
   "cell_type": "code",
   "execution_count": 18,
   "metadata": {},
   "outputs": [
    {
     "name": "stdout",
     "output_type": "stream",
     "text": [
      "{'label': \"31 Rue d'Alembert 02100 Saint-Quentin\", 'score': 0.34616827890556046, 'housenumber': '31', 'id': '02691_0115_00031', 'banId': 'aea56212-ec7e-4c7b-abf2-e007220b5d28', 'name': \"31 Rue d'Alembert\", 'postcode': '02100', 'citycode': '02691', 'x': 721307.38, 'y': 6973973.35, 'city': 'Saint-Quentin', 'context': '02, Aisne, Hauts-de-France', 'type': 'housenumber', 'importance': 0.66222, 'street': \"Rue d'Alembert\", 'lon': 3.296125, 'lat': 49.864165}\n"
     ]
    }
   ],
   "source": [
    "import requests\n",
    "ADDOK_URL = 'http://api-adresse.data.gouv.fr/search/'\n",
    "params = {\n",
    "    'q': location.address,\n",
    "    'limit': 5\n",
    "}\n",
    "response = requests.get(ADDOK_URL, params=params)\n",
    "j = response.json()\n",
    "if len(j.get('features')) > 0:\n",
    "    first_result = j.get('features')[0]\n",
    "    lon, lat = first_result.get('geometry').get('coordinates')\n",
    "    first_result_all_infos = { **first_result.get('properties'), **{\"lon\": lon, \"lat\": lat}}\n",
    "    print(first_result_all_infos)\n",
    "else:\n",
    "    print('No result')"
   ]
  }
 ],
 "metadata": {
  "kernelspec": {
   "display_name": "optimenv",
   "language": "python",
   "name": "python3"
  },
  "language_info": {
   "codemirror_mode": {
    "name": "ipython",
    "version": 3
   },
   "file_extension": ".py",
   "mimetype": "text/x-python",
   "name": "python",
   "nbconvert_exporter": "python",
   "pygments_lexer": "ipython3",
   "version": "3.10.11"
  }
 },
 "nbformat": 4,
 "nbformat_minor": 2
}
