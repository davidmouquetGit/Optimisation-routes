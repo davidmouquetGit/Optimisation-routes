{
 "cells": [
  {
   "cell_type": "code",
   "execution_count": 1,
   "id": "f274a9cd",
   "metadata": {},
   "outputs": [],
   "source": [
    "fichier_ndjson = \"../data/adresses/adresses-addok-27.ndjson\""
   ]
  },
  {
   "cell_type": "code",
   "execution_count": 3,
   "id": "5f7bf7c2",
   "metadata": {},
   "outputs": [],
   "source": [
    "import ndjson\n",
    "with open(fichier_ndjson, \"r\", encoding=\"utf-8\") as f:\n",
    "    adresses = ndjson.load(f)  # charge tout dans une liste"
   ]
  },
  {
   "cell_type": "code",
   "execution_count": 9,
   "id": "c4c4768a",
   "metadata": {},
   "outputs": [
    {
     "name": "stderr",
     "output_type": "stream",
     "text": [
      "C:\\Users\\David\\AppData\\Local\\Temp\\ipykernel_3636\\3808430798.py:18: UserWarning: Column names longer than 10 characters will be truncated when saved to ESRI Shapefile.\n",
      "  gdf.to_file(\"../data/adresses/adresses-27.shp\")\n",
      "c:\\Users\\David\\Projets\\Optimisation-routes\\optimenv\\lib\\site-packages\\pyogrio\\raw.py:723: RuntimeWarning: Normalized/laundered field name: 'oldcitycode' to 'oldcitycod'\n",
      "  ogr_write(\n",
      "c:\\Users\\David\\Projets\\Optimisation-routes\\optimenv\\lib\\site-packages\\pyogrio\\raw.py:723: RuntimeWarning: Normalized/laundered field name: 'housenumbers' to 'housenumbe'\n",
      "  ogr_write(\n",
      "c:\\Users\\David\\Projets\\Optimisation-routes\\optimenv\\lib\\site-packages\\pyogrio\\raw.py:723: RuntimeWarning: Value '{'1': {'id': '27003_c9k1xp_00001', 'banId': 'd2e6653e-792d-4922-82b5-30959df5e602', 'x': 567348.09, 'y': 6898725.43, 'lon': 1.180845, 'lat': 49.174526}, '2': {'id': '27003_c9k1xp_00002', 'banId': 'd8c568b3-5788-45c4-a08e-41e1bf3b1a3e', 'x': 567349.12, 'y': 6898760.56, 'lon': 1.180848, 'lat': 49.174842}, '3': {'id': '27003_c9k1xp_00003', 'banId': 'df431831-8d4f-423b-ac00-bc7e50a1e135', 'x': 567344.38, 'y': 6898773.57, 'lon': 1.180779, 'lat': 49.174958}, '4': {'id': '27003_c9k1xp_00004', 'banId': '7c515cef-1f62-495f-8665-b81e89c4982f', 'x': 567343.98, 'y': 6898781.37, 'lon': 1.180771, 'lat': 49.175028}, '5': {'id': '27003_c9k1xp_00005', 'banId': '8c0c30fa-ffe7-46d2-880e-b256149a7d49', 'x': 567353.1, 'y': 6898787.84, 'lon': 1.180894, 'lat': 49.175088}, '6': {'id': '27003_c9k1xp_00006', 'banId': '2bbc8b8f-69f4-49a2-a34f-9a0bfd52b12d', 'x': 567367.61, 'y': 6898793.96, 'lon': 1.181091, 'lat': 49.175146}, '7': {'id': '27003_c9k1xp_00007', 'banId': '391df725-838f-4e45-a85c-d1277c0ad989', 'x': 567393.89, 'y': 6898804.14, 'lon': 1.181448, 'lat': 49.175243}, '8': {'id': '27003_c9k1xp_00008', 'banId': '3c2769d3-6418-4b7f-8acc-b8b1ceeed0f3', 'x': 567399.19, 'y': 6898806.25, 'lon': 1.18152, 'lat': 49.175263}, '9': {'id': '27003_c9k1xp_00009', 'banId': '39cf7e38-4f7d-4477-b647-5162a31592b0', 'x': 567416.47, 'y': 6898840.78, 'lon': 1.181746, 'lat': 49.175577}, '10': {'id': '27003_c9k1xp_00010', 'banId': '7a926507-0ce5-4440-b335-497cbc60a198', 'x': 567420.08, 'y': 6898823.34, 'lon': 1.181801, 'lat': 49.175421}, '11': {'id': '27003_c9k1xp_00011', 'banId': 'e49f8417-5ab7-4beb-a767-206265cdb7ad', 'x': 567423.68, 'y': 6898802.34, 'lon': 1.181857, 'lat': 49.175233}, '12': {'id': '27003_c9k1xp_00012', 'banId': '43d5d44b-6964-477a-81d9-9ac06cf85df9', 'x': 567437.11, 'y': 6898770.88, 'lon': 1.182051, 'lat': 49.174953}, '13': {'id': '27003_c9k1xp_00013', 'banId': 'b46dc4ab-0a5d-4d3c-98b9-5d31d2b4fe62', 'x': 567445.59, 'y': 6898759, 'lon': 1.182171, 'lat': 49.174848}, '14': {'id': '27003_c9k1xp_00014', 'banId': '9358b8a8-0b4c-486d-8769-50910c6c6892', 'x': 567443.11, 'y': 6898749.83, 'lon': 1.18214, 'lat': 49.174765}, '15': {'id': '27003_c9k1xp_00015', 'banId': '61e89a45-0b27-4f02-91e1-bfee5b88f7b9', 'x': 567427.39, 'y': 6898747.85, 'lon': 1.181925, 'lat': 49.174744}, '16': {'id': '27003_c9k1xp_00016', 'banId': 'b8ac3d78-bc38-4627-952d-e7f8ffa6ccb0', 'x': 567411.47, 'y': 6898737.65, 'lon': 1.18171, 'lat': 49.174649}, '17': {'id': '27003_c9k1xp_00017', 'banId': '51544e1f-a3da-4dc2-aacb-17450f8d492e', 'x': 567395.57, 'y': 6898728.45, 'lon': 1.181495, 'lat': 49.174563}, '18': {'id': '27003_c9k1xp_00018', 'banId': '16abce97-03e9-47a3-b6a6-42f67423cad1', 'x': 567381.48, 'y': 6898721.54, 'lon': 1.181304, 'lat': 49.174498}, '19': {'id': '27003_c9k1xp_00019', 'banId': '03745c5c-e870-49c5-ba78-8437e85e030c', 'x': 567365.37, 'y': 6898712.45, 'lon': 1.181086, 'lat': 49.174413}, '20': {'id': '27003_c9k1xp_00020', 'banId': '4391addc-4c68-445d-89de-c64ab63bbab4', 'x': 567365.64, 'y': 6898749.39, 'lon': 1.181078, 'lat': 49.174745}, '21': {'id': '27003_c9k1xp_00021', 'banId': 'd2ca687c-cb69-498c-9967-b22ca1ae0675', 'x': 567404.09, 'y': 6898743.49, 'lon': 1.181607, 'lat': 49.1747}, '22': {'id': '27003_c9k1xp_00022', 'banId': '7c619521-5e28-4908-9713-b70553edc3a2', 'x': 567423.34, 'y': 6898755.73, 'lon': 1.181867, 'lat': 49.174814}, '23': {'id': '27003_c9k1xp_00023', 'banId': 'e74a0044-901c-4880-8e99-18906d1c5598', 'x': 567410.43, 'y': 6898800.2, 'lon': 1.181676, 'lat': 49.175211}, '24': {'id': '27003_c9k1xp_00024', 'banId': '53b2d63e-f0e6-488b-bc9b-77365cbe512c', 'x': 567371.42, 'y': 6898785.08, 'lon': 1.181146, 'lat': 49.175067}, '25': {'id': '27003_c9k1xp_00025', 'banId': '53b5468e-d98a-4f22-a2ff-7451af22f973', 'x': 567356.74, 'y': 6898765.39, 'lon': 1.180951, 'lat': 49.174887}}' of field housenumbe has been truncated to 254 characters.  This warning will not be emitted any more for that layer.\n",
      "  ogr_write(\n"
     ]
    }
   ],
   "source": [
    "import geopandas as gpd\n",
    "from shapely.geometry import Point\n",
    "import pandas as pd\n",
    "\n",
    "# Créer DataFrame\n",
    "df = pd.DataFrame(adresses)\n",
    "\n",
    "# Créer colonne geometry avec Shapely\n",
    "df[\"geometry\"] = df.apply(lambda row: Point(row[\"lon\"], row[\"lat\"]), axis=1)\n",
    "\n",
    "# Créer GeoDataFrame avec CRS WGS84 (EPSG:4326)\n",
    "gdf = gpd.GeoDataFrame(df, geometry=\"geometry\", crs=\"EPSG:4326\")\n",
    "\n",
    "# Reprojeter en Lambert‑93\n",
    "gdf = gdf.to_crs(epsg=2154)\n",
    "\n",
    "# Sauvegarder en Shapefile\n",
    "gdf.to_file(\"../data/adresses/adresses-27.shp\")\n",
    "\n"
   ]
  }
 ],
 "metadata": {
  "kernelspec": {
   "display_name": "optimenv",
   "language": "python",
   "name": "python3"
  },
  "language_info": {
   "codemirror_mode": {
    "name": "ipython",
    "version": 3
   },
   "file_extension": ".py",
   "mimetype": "text/x-python",
   "name": "python",
   "nbconvert_exporter": "python",
   "pygments_lexer": "ipython3",
   "version": "3.10.11"
  }
 },
 "nbformat": 4,
 "nbformat_minor": 5
}
